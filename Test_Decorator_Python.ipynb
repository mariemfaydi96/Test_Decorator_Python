{
 "cells": [
  {
   "cell_type": "code",
   "execution_count": 1,
   "metadata": {},
   "outputs": [],
   "source": [
    "import time\n",
    "test = True\n",
    "def log_content(fonction):\n",
    "    if test:\n",
    "        def exemple(a,b,c):\n",
    "            result = fonction(a,b,c)\n",
    "            a = b + c\n",
    "            b = a + c\n",
    "            c = a + b\n",
    "            \n",
    "            \n",
    "        return exemple\n",
    "    else:\n",
    "        return fonction"
   ]
  },
  {
   "cell_type": "code",
   "execution_count": 2,
   "metadata": {},
   "outputs": [],
   "source": [
    "@log_content\n",
    "def ma_fonction(a,b,c):\n",
    "    print('Variable a=',a)\n",
    "    print('Variable b=',b)\n",
    "    print('Variable c=',c)\n",
    "    d = \"hi there\"\n",
    "    print('Variable d =',d)\n",
    "    print('Total =',a + b + c )\n",
    "    time.sleep(0.25)"
   ]
  },
  {
   "cell_type": "code",
   "execution_count": 3,
   "metadata": {},
   "outputs": [
    {
     "name": "stdout",
     "output_type": "stream",
     "text": [
      "Variable a= 5\n",
      "Variable b= 4\n",
      "Variable c= 3\n",
      "Variable d = hi there\n",
      "Total = 12\n"
     ]
    }
   ],
   "source": [
    "ma_fonction(5,4,3)"
   ]
  },
  {
   "cell_type": "code",
   "execution_count": null,
   "metadata": {},
   "outputs": [],
   "source": []
  }
 ],
 "metadata": {
  "kernelspec": {
   "display_name": "Python 3",
   "language": "python",
   "name": "python3"
  },
  "language_info": {
   "codemirror_mode": {
    "name": "ipython",
    "version": 3
   },
   "file_extension": ".py",
   "mimetype": "text/x-python",
   "name": "python",
   "nbconvert_exporter": "python",
   "pygments_lexer": "ipython3",
   "version": "3.7.3"
  }
 },
 "nbformat": 4,
 "nbformat_minor": 2
}
